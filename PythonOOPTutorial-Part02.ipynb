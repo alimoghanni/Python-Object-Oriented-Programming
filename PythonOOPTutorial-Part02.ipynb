{
 "cells": [
  {
   "cell_type": "markdown",
   "metadata": {},
   "source": [
    "# Python OOP Tutorial-Part02\n",
    "\n",
    "# Class Variables\n",
    "\n",
    "### Implementation: Ali Moghanni\n",
    "\n",
    "*Resources:*\n",
    "\n",
    "This Jupyter notebook can be obtained at [https://github.com/alimoghanni/Python-Object-Oriented-Programming](https://github.com/alimoghanni/Python-Object-Oriented-Programming). \n",
    "\n",
    "updated: **2021-12-14**"
   ]
  },
  {
   "cell_type": "code",
   "execution_count": 1,
   "metadata": {},
   "outputs": [
    {
     "name": "stdout",
     "output_type": "stream",
     "text": [
      "45000\n",
      "46800\n"
     ]
    }
   ],
   "source": [
    "class Employee:\n",
    "    \n",
    "    def __init__(self, first, last, pay):\n",
    "        self.first = first\n",
    "        self.last = last\n",
    "        self.pay = pay\n",
    "        self.email = first + '.' + last + '@mail.com'\n",
    "     \n",
    "    def fullname(self):\n",
    "        return '{} {}'.format(self.first, self.last)\n",
    "\n",
    "    \n",
    "    def apply_raise(self):\n",
    "        self.pay = int(self.pay * 1.04)\n",
    "        \n",
    "        \n",
    "\n",
    "emp_1 = Employee('Alex', 'Kim', 45000)\n",
    "emp_2 = Employee('Jeni', 'Tom', 59000)\n",
    "\n",
    "\n",
    "print(emp_1.pay)\n",
    "\n",
    "emp_1.apply_raise()\n",
    "\n",
    "print(emp_1.pay)"
   ]
  },
  {
   "cell_type": "code",
   "execution_count": 2,
   "metadata": {},
   "outputs": [
    {
     "name": "stdout",
     "output_type": "stream",
     "text": [
      "45000\n",
      "46800\n"
     ]
    }
   ],
   "source": [
    "class Employee:\n",
    "    \n",
    "    raise_amount = 1.04\n",
    "    \n",
    "    def __init__(self, first, last, pay):\n",
    "        self.first = first\n",
    "        self.last = last\n",
    "        self.pay = pay\n",
    "        self.email = first + '.' + last + '@mail.com'\n",
    "     \n",
    "    def fullname(self):\n",
    "        return '{} {}'.format(self.first, self.last)\n",
    "\n",
    "    \n",
    "    def apply_raise(self):\n",
    "        self.pay = int(self.pay * self.raise_amount)\n",
    "        \n",
    "        \n",
    "\n",
    "emp_1 = Employee('Alex', 'Kim', 45000)\n",
    "emp_2 = Employee('Jeni', 'Tom', 59000)\n",
    "\n",
    "\n",
    "print(emp_1.pay)\n",
    "\n",
    "emp_1.apply_raise()\n",
    "\n",
    "print(emp_1.pay)"
   ]
  },
  {
   "cell_type": "code",
   "execution_count": 3,
   "metadata": {},
   "outputs": [
    {
     "name": "stdout",
     "output_type": "stream",
     "text": [
      "1.04\n",
      "1.04\n",
      "1.04\n"
     ]
    }
   ],
   "source": [
    "class Employee:\n",
    "    \n",
    "    raise_amount = 1.04\n",
    "    \n",
    "    def __init__(self, first, last, pay):\n",
    "        self.first = first\n",
    "        self.last = last\n",
    "        self.pay = pay\n",
    "        self.email = first + '.' + last + '@mail.com'\n",
    "     \n",
    "    def fullname(self):\n",
    "        return '{} {}'.format(self.first, self.last)\n",
    "\n",
    "    \n",
    "    def apply_raise(self):\n",
    "        self.pay = int(self.pay * self.raise_amount)\n",
    "        \n",
    "        \n",
    "\n",
    "emp_1 = Employee('Alex', 'Kim', 45000)\n",
    "emp_2 = Employee('Jeni', 'Tom', 59000)\n",
    "\n",
    "\n",
    "print(Employee.raise_amount)\n",
    "print(emp_1.raise_amount)\n",
    "print(emp_1.raise_amount)"
   ]
  },
  {
   "cell_type": "code",
   "execution_count": 4,
   "metadata": {},
   "outputs": [
    {
     "name": "stdout",
     "output_type": "stream",
     "text": [
      "{'first': 'Alex', 'last': 'Kim', 'pay': 45000, 'email': 'Alex.Kim@mail.com'}\n",
      "\n",
      "{'__module__': '__main__', 'raise_amount': 1.04, '__init__': <function Employee.__init__ at 0x0000021A05C9FEE8>, 'fullname': <function Employee.fullname at 0x0000021A05C9F318>, 'apply_raise': <function Employee.apply_raise at 0x0000021A05CC23A8>, '__dict__': <attribute '__dict__' of 'Employee' objects>, '__weakref__': <attribute '__weakref__' of 'Employee' objects>, '__doc__': None}\n"
     ]
    }
   ],
   "source": [
    "class Employee:\n",
    "    \n",
    "    raise_amount = 1.04\n",
    "    \n",
    "    def __init__(self, first, last, pay):\n",
    "        self.first = first\n",
    "        self.last = last\n",
    "        self.pay = pay\n",
    "        self.email = first + '.' + last + '@mail.com'\n",
    "     \n",
    "    def fullname(self):\n",
    "        return '{} {}'.format(self.first, self.last)\n",
    "\n",
    "    \n",
    "    def apply_raise(self):\n",
    "        self.pay = int(self.pay * self.raise_amount)\n",
    "        \n",
    "        \n",
    "\n",
    "emp_1 = Employee('Alex', 'Kim', 45000)\n",
    "emp_2 = Employee('Jeni', 'Tom', 59000)\n",
    "\n",
    "\n",
    "print(emp_1.__dict__)\n",
    "\n",
    "print()\n",
    "\n",
    "print(Employee.__dict__)"
   ]
  },
  {
   "cell_type": "code",
   "execution_count": 5,
   "metadata": {},
   "outputs": [
    {
     "name": "stdout",
     "output_type": "stream",
     "text": [
      "1.05\n",
      "1.05\n",
      "1.05\n"
     ]
    }
   ],
   "source": [
    "class Employee:\n",
    "    \n",
    "    raise_amount = 1.04\n",
    "    \n",
    "    def __init__(self, first, last, pay):\n",
    "        self.first = first\n",
    "        self.last = last\n",
    "        self.pay = pay\n",
    "        self.email = first + '.' + last + '@mail.com'\n",
    "     \n",
    "    def fullname(self):\n",
    "        return '{} {}'.format(self.first, self.last)\n",
    "\n",
    "    \n",
    "    def apply_raise(self):\n",
    "        self.pay = int(self.pay * self.raise_amount)\n",
    "        \n",
    "        \n",
    "\n",
    "emp_1 = Employee('Alex', 'Kim', 45000)\n",
    "emp_2 = Employee('Jeni', 'Tom', 59000)\n",
    "\n",
    "\n",
    "Employee.raise_amount = 1.05\n",
    "\n",
    "print(Employee.raise_amount)\n",
    "print(emp_1.raise_amount)\n",
    "print(emp_1.raise_amount)"
   ]
  },
  {
   "cell_type": "code",
   "execution_count": 6,
   "metadata": {},
   "outputs": [
    {
     "name": "stdout",
     "output_type": "stream",
     "text": [
      "1.04\n",
      "1.05\n",
      "1.04\n",
      "{'first': 'Alex', 'last': 'Kim', 'pay': 45000, 'email': 'Alex.Kim@mail.com', 'raise_amount': 1.05}\n"
     ]
    }
   ],
   "source": [
    "class Employee:\n",
    "    \n",
    "    raise_amount = 1.04\n",
    "    \n",
    "    def __init__(self, first, last, pay):\n",
    "        self.first = first\n",
    "        self.last = last\n",
    "        self.pay = pay\n",
    "        self.email = first + '.' + last + '@mail.com'\n",
    "     \n",
    "    def fullname(self):\n",
    "        return '{} {}'.format(self.first, self.last)\n",
    "\n",
    "    \n",
    "    def apply_raise(self):\n",
    "        self.pay = int(self.pay * self.raise_amount)\n",
    "        \n",
    "        \n",
    "\n",
    "emp_1 = Employee('Alex', 'Kim', 45000)\n",
    "emp_2 = Employee('Jeni', 'Tom', 59000)\n",
    "\n",
    "\n",
    "emp_1.raise_amount = 1.05\n",
    "\n",
    "print(Employee.raise_amount)\n",
    "print(emp_1.raise_amount)\n",
    "print(emp_2.raise_amount)\n",
    "\n",
    "print(emp_1.__dict__)"
   ]
  },
  {
   "cell_type": "code",
   "execution_count": 7,
   "metadata": {},
   "outputs": [
    {
     "name": "stdout",
     "output_type": "stream",
     "text": [
      "0\n",
      "2\n"
     ]
    }
   ],
   "source": [
    "class Employee:\n",
    "    \n",
    "    num_of_emp = 0\n",
    "    raise_amount = 1.04\n",
    "    \n",
    "    def __init__(self, first, last, pay):\n",
    "        self.first = first\n",
    "        self.last = last\n",
    "        self.pay = pay\n",
    "        self.email = first + '.' + last + '@mail.com'\n",
    "        \n",
    "        Employee.num_of_emp += 1\n",
    "        \n",
    "     \n",
    "    def fullname(self):\n",
    "        return '{} {}'.format(self.first, self.last)\n",
    "\n",
    "    \n",
    "    def apply_raise(self):\n",
    "        self.pay = int(self.pay * self.raise_amount)\n",
    "        \n",
    "        \n",
    "print(Employee.num_of_emp)\n",
    "        \n",
    "emp_1 = Employee('Alex', 'Kim', 45000)\n",
    "emp_2 = Employee('Jeni', 'Tom', 59000)\n",
    "\n",
    "print(Employee.num_of_emp)"
   ]
  },
  {
   "cell_type": "code",
   "execution_count": null,
   "metadata": {},
   "outputs": [],
   "source": []
  }
 ],
 "metadata": {
  "kernelspec": {
   "display_name": "Python 3",
   "language": "python",
   "name": "python3"
  },
  "language_info": {
   "codemirror_mode": {
    "name": "ipython",
    "version": 3
   },
   "file_extension": ".py",
   "mimetype": "text/x-python",
   "name": "python",
   "nbconvert_exporter": "python",
   "pygments_lexer": "ipython3",
   "version": "3.7.7"
  }
 },
 "nbformat": 4,
 "nbformat_minor": 2
}
